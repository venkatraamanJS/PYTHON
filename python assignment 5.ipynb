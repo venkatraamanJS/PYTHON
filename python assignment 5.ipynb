{
 "cells": [
  {
   "cell_type": "markdown",
   "id": "2ecf399c",
   "metadata": {},
   "source": [
    "1. Write a function to compute 5/0 and use try/except to catch the exceptions.\n"
   ]
  },
  {
   "cell_type": "code",
   "execution_count": 2,
   "id": "8f0e4a5c",
   "metadata": {},
   "outputs": [],
   "source": [
    "def temp():\n",
    "    while True:\n",
    "        try:\n",
    "            a=int(input('enter the value of a '))\n",
    "            b=int(input('enter the value of b '))\n",
    "            temp_1=a/b\n",
    "        except ZeroDivisionError:\n",
    "            print(\"try to give non zero value in denominator\")\n",
    "            continue\n",
    "        except Exception as e:\n",
    "            print(e ,'try again')\n",
    "            continue\n",
    "        else:\n",
    "            break\n",
    "    return temp_1\n",
    "        "
   ]
  },
  {
   "cell_type": "code",
   "execution_count": 3,
   "id": "0bb2c1dc",
   "metadata": {},
   "outputs": [
    {
     "name": "stdout",
     "output_type": "stream",
     "text": [
      "enter the value of a 1\n",
      "enter the value of b 0\n",
      "try to give non zero value in denominator\n",
      "enter the value of a 5\n",
      "enter the value of b 8\n"
     ]
    },
    {
     "data": {
      "text/plain": [
       "0.625"
      ]
     },
     "execution_count": 3,
     "metadata": {},
     "output_type": "execute_result"
    }
   ],
   "source": [
    "temp()"
   ]
  },
  {
   "cell_type": "markdown",
   "id": "ef41abd3",
   "metadata": {},
   "source": [
    "2. Implement a Python program to generate all sentences where subject is in \n",
    "[\"Americans\", \"Indians\"] and verb is in [\"Play\", \"watch\"] and the object is in \n",
    "[\"Baseball\",\"cricket\"].\n",
    "\n",
    "Hint: Subject,Verb and Object should be declared in the program as shown below.\n",
    "\n",
    "subjects=[\"Americans \",\"Indians\"]\n",
    "verbs=[\"play\",\"watch\"]\n",
    "objects=[\"Baseball\",\"Cricket\"]\n",
    "\n",
    "Output should come as below:\n",
    "\n",
    "Americans play Baseball.\n",
    "Americans play Cricket.\n",
    "Americans watch Baseball.\n",
    "Americans watch Cricket.\n",
    "Indians play Baseball.\n",
    "Indians play Cricket.\n",
    "Indians watch Baseball.\n",
    "Indians watch Cricket.\n"
   ]
  },
  {
   "cell_type": "code",
   "execution_count": 1,
   "id": "3058e7c9",
   "metadata": {},
   "outputs": [
    {
     "name": "stdout",
     "output_type": "stream",
     "text": [
      "Americans Play Baseball\n",
      "Americans Play Cricket\n",
      "Americans watch Baseball\n",
      "Americans watch Cricket\n",
      "Indians Play Baseball\n",
      "Indians Play Cricket\n",
      "Indians watch Baseball\n",
      "Indians watch Cricket\n"
     ]
    }
   ],
   "source": [
    "a=[\"Americans\", \"Indians\"] \n",
    "b=[\"Play\", \"watch\"] \n",
    "c=[\"Baseball\",\"Cricket\"]\n",
    "for i in a:\n",
    "    for j in b:\n",
    "        for k in c:\n",
    "            print(i+' '+j+' '+k)"
   ]
  },
  {
   "cell_type": "code",
   "execution_count": null,
   "id": "3157fdd4",
   "metadata": {},
   "outputs": [],
   "source": []
  }
 ],
 "metadata": {
  "kernelspec": {
   "display_name": "Python 3 (ipykernel)",
   "language": "python",
   "name": "python3"
  },
  "language_info": {
   "codemirror_mode": {
    "name": "ipython",
    "version": 3
   },
   "file_extension": ".py",
   "mimetype": "text/x-python",
   "name": "python",
   "nbconvert_exporter": "python",
   "pygments_lexer": "ipython3",
   "version": "3.8.10"
  }
 },
 "nbformat": 4,
 "nbformat_minor": 5
}
