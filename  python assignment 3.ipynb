{
 "cells": [
  {
   "cell_type": "markdown",
   "id": "48f66999",
   "metadata": {},
   "source": [
    "### 1.1 Program to implement your own reduce funtion which likely work as in built funtion"
   ]
  },
  {
   "cell_type": "code",
   "execution_count": 1,
   "id": "b5841eb0",
   "metadata": {},
   "outputs": [
    {
     "name": "stdout",
     "output_type": "stream",
     "text": [
      "35\n"
     ]
    }
   ],
   "source": [
    "def add(a,b):\n",
    "    return a+b\n",
    "\n",
    "lis=[1,2,3,4,5,10,10]\n",
    "\n",
    "def myreduce(add,lis):\n",
    "    a=0\n",
    "    for i in range(0,len(lis)):\n",
    "        a=add(a,lis[i])\n",
    "    return a\n",
    "\n",
    "print(myreduce(add,lis))"
   ]
  },
  {
   "cell_type": "markdown",
   "id": "679fa84d",
   "metadata": {},
   "source": [
    "### 1.2 Program to implement your own filter funtion which likely work as in built funtion"
   ]
  },
  {
   "cell_type": "code",
   "execution_count": 2,
   "id": "475738d5",
   "metadata": {},
   "outputs": [
    {
     "name": "stdout",
     "output_type": "stream",
     "text": [
      "[5, 10, 100]\n"
     ]
    }
   ],
   "source": [
    "def divisible_of_5(a):\n",
    "    if a%5==0:\n",
    "        return True\n",
    "\n",
    "lis=[1,2,3,4,5,10,100]\n",
    "\n",
    "def myfilter(divisible_of_5,lis):\n",
    "    temp_lis=[]\n",
    "    for i in lis:\n",
    "        if divisible_of_5(i)==True:\n",
    "            temp_lis.append(i)\n",
    "        \n",
    "    return temp_lis\n",
    "\n",
    "print(myfilter(divisible_of_5,lis))"
   ]
  },
  {
   "cell_type": "markdown",
   "id": "6b2cea02",
   "metadata": {},
   "source": [
    "Program for various pattern in list comprehensions"
   ]
  },
  {
   "cell_type": "markdown",
   "id": "fc6fb249",
   "metadata": {},
   "source": [
    "### 2.1 Program to ['x', 'xx', 'xxx', 'xxxx', 'y', 'yy', 'yyy', 'yyyy', 'z', 'zz', 'zzz', 'zzzz']"
   ]
  },
  {
   "cell_type": "code",
   "execution_count": 3,
   "id": "d6100129",
   "metadata": {},
   "outputs": [
    {
     "name": "stdout",
     "output_type": "stream",
     "text": [
      "['x', 'xx', 'xxx', 'xxxx', 'y', 'yy', 'yyy', 'yyyy', 'z', 'zz', 'zzz', 'zzzz']\n"
     ]
    }
   ],
   "source": [
    "a=['x','y','z']\n",
    "lis = []\n",
    "[lis.append(i*j) for i in a for j in range(1,5)]\n",
    "print(lis)"
   ]
  },
  {
   "cell_type": "markdown",
   "id": "117dc120",
   "metadata": {},
   "source": [
    "### 2.2 Program to ['x', 'y', 'z', 'xx', 'yy', 'zz', 'xxx', 'yyy', 'zzz', 'xxxx', 'yyyy', 'zzzz']"
   ]
  },
  {
   "cell_type": "code",
   "execution_count": 4,
   "id": "681d6d37",
   "metadata": {},
   "outputs": [
    {
     "name": "stdout",
     "output_type": "stream",
     "text": [
      "['x', 'y', 'z', 'xx', 'yy', 'zz', 'xxx', 'yyy', 'zzz', 'xxxx', 'yyyy', 'zzzz']\n"
     ]
    }
   ],
   "source": [
    "a=['x','y','z']\n",
    "lis = []\n",
    "[lis.append(i*j) for j in range(1,5) for i in a]\n",
    "print(lis)"
   ]
  },
  {
   "cell_type": "markdown",
   "id": "7f5f21d3",
   "metadata": {},
   "source": [
    "### 2.3 program to [[2], [3], [4], [3], [4], [5], [4], [5], [6]] [[2, 3, 4, 5], [3, 4, 5, 6],\n",
    "[4, 5, 6, 7], [5, 6, 7, 8]]\n"
   ]
  },
  {
   "cell_type": "code",
   "execution_count": 5,
   "id": "a9a5bf55",
   "metadata": {},
   "outputs": [
    {
     "name": "stdout",
     "output_type": "stream",
     "text": [
      "[[2], [3], [4], [3], [4], [5], [4], [5], [6], [2, 3, 4, 5], [3, 4, 5, 6], [4, 5, 6, 7], [5, 6, 7, 8], [6, 7, 8, 9]]\n"
     ]
    }
   ],
   "source": [
    "lis1,lis3,lis2=[],[],[]\n",
    "\n",
    "for i in range(1,4):\n",
    "    for j in range(1,4):\n",
    "        lis1.append([j+i])\n",
    "\n",
    "for i in range (1,6):\n",
    "    for j in range(1,5):\n",
    "        lis2.append(j+i)\n",
    "    lis3.append(lis2)\n",
    "    lis2=[]\n",
    "\n",
    "[lis1.extend(lis3)] # List Comprehension\n",
    "print(lis1)"
   ]
  },
  {
   "cell_type": "markdown",
   "id": "b1bd5369",
   "metadata": {},
   "source": [
    "### 2.4 Program to [(1, 1), (2, 1), (3, 1), (1, 2), (2, 2), (3, 2), (1, 3), (2, 3), (3, 3)]"
   ]
  },
  {
   "cell_type": "code",
   "execution_count": 6,
   "id": "f0db70d2",
   "metadata": {},
   "outputs": [
    {
     "name": "stdout",
     "output_type": "stream",
     "text": [
      "[(1, 1), (2, 1), (3, 1), (1, 2), (2, 2), (3, 2), (1, 3), (2, 3), (3, 3)]\n"
     ]
    }
   ],
   "source": [
    "lis=[]\n",
    "[lis.append(tuple([j,i])) for i in range(1,4) for j in range(1,4)]\n",
    "print(lis)"
   ]
  },
  {
   "cell_type": "code",
   "execution_count": null,
   "id": "97ac6ac3",
   "metadata": {},
   "outputs": [],
   "source": []
  }
 ],
 "metadata": {
  "kernelspec": {
   "display_name": "Python 3 (ipykernel)",
   "language": "python",
   "name": "python3"
  },
  "language_info": {
   "codemirror_mode": {
    "name": "ipython",
    "version": 3
   },
   "file_extension": ".py",
   "mimetype": "text/x-python",
   "name": "python",
   "nbconvert_exporter": "python",
   "pygments_lexer": "ipython3",
   "version": "3.8.10"
  }
 },
 "nbformat": 4,
 "nbformat_minor": 5
}
