{
 "cells": [
  {
   "cell_type": "markdown",
   "id": "8c4c187f",
   "metadata": {},
   "source": [
    "Pattern"
   ]
  },
  {
   "cell_type": "code",
   "execution_count": 26,
   "id": "9c6daa43",
   "metadata": {},
   "outputs": [
    {
     "name": "stdout",
     "output_type": "stream",
     "text": [
      "enter the number 5\n",
      "* \n",
      "\n",
      "* * \n",
      "\n",
      "* * * \n",
      "\n",
      "* * * * \n",
      "\n",
      "* * * * * \n",
      "\n",
      "* * * * \n",
      "\n",
      "* * * \n",
      "\n",
      "* * \n",
      "\n",
      "* \n",
      "\n"
     ]
    }
   ],
   "source": [
    "temp=int(input(\"enter the number \"))\n",
    "for i in range(1,temp+1):\n",
    "    for j in range(i):\n",
    "        print(\"* \", end='')\n",
    "    print('\\n')\n",
    "for i in range(temp-1,0,-1):\n",
    "    for j in range(i):\n",
    "        print(\"* \", end='')\n",
    "    print('\\n')"
   ]
  },
  {
   "cell_type": "markdown",
   "id": "52c4ea58",
   "metadata": {},
   "source": [
    "program for accepting the input from user and reversing"
   ]
  },
  {
   "cell_type": "code",
   "execution_count": 29,
   "id": "3a495e65",
   "metadata": {},
   "outputs": [
    {
     "name": "stdout",
     "output_type": "stream",
     "text": [
      "enter the name: ineuron\n",
      "norueni\n"
     ]
    }
   ],
   "source": [
    "while(1):\n",
    "    a=input('enter the name: ')\n",
    "    if a!='':\n",
    "        print(a[::-1])\n",
    "        break\n",
    "    else: \n",
    "        print(\"try again\")"
   ]
  },
  {
   "cell_type": "code",
   "execution_count": null,
   "id": "c205e57c",
   "metadata": {},
   "outputs": [],
   "source": []
  }
 ],
 "metadata": {
  "kernelspec": {
   "display_name": "Python 3 (ipykernel)",
   "language": "python",
   "name": "python3"
  },
  "language_info": {
   "codemirror_mode": {
    "name": "ipython",
    "version": 3
   },
   "file_extension": ".py",
   "mimetype": "text/x-python",
   "name": "python",
   "nbconvert_exporter": "python",
   "pygments_lexer": "ipython3",
   "version": "3.8.10"
  }
 },
 "nbformat": 4,
 "nbformat_minor": 5
}
